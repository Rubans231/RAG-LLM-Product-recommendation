{
 "cells": [
  {
   "cell_type": "code",
   "execution_count": 10,
   "id": "15dfc3ca",
   "metadata": {},
   "outputs": [],
   "source": [
    "# Cell 1: Install required packages\n",
    "!pip install -q langchain transformers sentence-transformers faiss-cpu pandas datasets langchain-community"
   ]
  },
  {
   "cell_type": "code",
   "execution_count": 11,
   "id": "9b5908ef",
   "metadata": {},
   "outputs": [
    {
     "name": "stderr",
     "output_type": "stream",
     "text": [
      "/home/robin/Projects/RAG+LLM-Product-recommendation/myvenv/lib/python3.13/site-packages/tqdm/auto.py:21: TqdmWarning: IProgress not found. Please update jupyter and ipywidgets. See https://ipywidgets.readthedocs.io/en/stable/user_install.html\n",
      "  from .autonotebook import tqdm as notebook_tqdm\n"
     ]
    }
   ],
   "source": [
    "# Cell 2: Import necessary libraries\n",
    "import pandas as pd\n",
    "import os\n",
    "from langchain.document_loaders import DataFrameLoader\n",
    "from langchain.text_splitter import RecursiveCharacterTextSplitter\n",
    "from langchain.embeddings import HuggingFaceEmbeddings\n",
    "from langchain.vectorstores import FAISS\n",
    "from langchain.chains import RetrievalQA\n",
    "from langchain.llms import HuggingFacePipeline\n",
    "from transformers import AutoTokenizer, AutoModelForCausalLM, pipeline\n",
    "import torch"
   ]
  },
  {
   "cell_type": "code",
   "execution_count": null,
   "id": "88ed80c4",
   "metadata": {},
   "outputs": [
    {
     "name": "stdout",
     "output_type": "stream",
     "text": [
      "Columns in your dataset:\n",
      "['product_id', 'product_name', 'category', 'discounted_price', 'actual_price', 'discount_percentage', 'rating', 'rating_count', 'about_product', 'user_id', 'user_name', 'review_id', 'review_title', 'review_content', 'img_link', 'product_link']\n",
      "\n",
      "First 2 rows of data:\n",
      "   product_id                                       product_name  \\\n",
      "0  B07JW9H4J1  Wayona Nylon Braided USB to Lightning Fast Cha...   \n",
      "1  B098NS6PVG  Ambrane Unbreakable 60W / 3A Fast Charging 1.5...   \n",
      "\n",
      "                                            category discounted_price  \\\n",
      "0  Computers&Accessories|Accessories&Peripherals|...             ₹399   \n",
      "1  Computers&Accessories|Accessories&Peripherals|...             ₹199   \n",
      "\n",
      "  actual_price discount_percentage rating rating_count  \\\n",
      "0       ₹1,099                 64%    4.2       24,269   \n",
      "1         ₹349                 43%    4.0       43,994   \n",
      "\n",
      "                                       about_product  \\\n",
      "0  High Compatibility : Compatible With iPhone 12...   \n",
      "1  Compatible with all Type C enabled devices, be...   \n",
      "\n",
      "                                             user_id  \\\n",
      "0  AG3D6O4STAQKAY2UVGEUV46KN35Q,AHMY5CWJMMK5BJRBB...   \n",
      "1  AECPFYFQVRUWC3KGNLJIOREFP5LQ,AGYYVPDD7YG7FYNBX...   \n",
      "\n",
      "                                           user_name  \\\n",
      "0  Manav,Adarsh gupta,Sundeep,S.Sayeed Ahmed,jasp...   \n",
      "1  ArdKn,Nirbhay kumar,Sagar Viswanathan,Asp,Plac...   \n",
      "\n",
      "                                           review_id  \\\n",
      "0  R3HXWT0LRP0NMF,R2AJM3LFTLZHFO,R6AQJGUP6P86,R1K...   \n",
      "1  RGIQEG07R9HS2,R1SMWZQ86XIN8U,R2J3Y1WL29GWDE,RY...   \n",
      "\n",
      "                                        review_title  \\\n",
      "0  Satisfied,Charging is really fast,Value for mo...   \n",
      "1  A Good Braided Cable for Your Type C Device,Go...   \n",
      "\n",
      "                                      review_content  \\\n",
      "0  Looks durable Charging is fine tooNo complains...   \n",
      "1  I ordered this cable to connect my phone to An...   \n",
      "\n",
      "                                            img_link  \\\n",
      "0  https://m.media-amazon.com/images/W/WEBP_40237...   \n",
      "1  https://m.media-amazon.com/images/W/WEBP_40237...   \n",
      "\n",
      "                                        product_link  \n",
      "0  https://www.amazon.in/Wayona-Braided-WN3LG1-Sy...  \n",
      "1  https://www.amazon.in/Ambrane-Unbreakable-Char...  \n"
     ]
    }
   ],
   "source": [
    "# Cell 3: Load and inspect the dataset\n",
    "import pandas as pd\n",
    "\n",
    "# Load the CSV\n",
    "df = pd.read_csv('amazon.csv')\n",
    "\n",
    "# Print all column names\n",
    "print(\"Columns in your dataset:\")\n",
    "print(df.columns.tolist())\n",
    "\n",
    "# show first few rows to understand structure\n",
    "print(\"\\nFirst 2 rows of data:\")\n",
    "print(df.head(2))"
   ]
  },
  {
   "cell_type": "code",
   "execution_count": null,
   "id": "7ce6d803",
   "metadata": {},
   "outputs": [
    {
     "name": "stdout",
     "output_type": "stream",
     "text": [
      "Created 1465 documents.\n"
     ]
    }
   ],
   "source": [
    "# Cell 4: Create rich document content from real columns\n",
    "# Use 'about_product' as the main text \n",
    "df['combined_content'] = df.apply(\n",
    "    lambda row: f\"Product ID: {row['product_id']}\\n\"\n",
    "                f\"Name: {row['product_name']}\\n\"\n",
    "                f\"Category: {row['category']}\\n\"\n",
    "                f\"Discounted Price: ₹{row['discounted_price']}\\n\"\n",
    "                f\"Actual Price: ₹{row['actual_price']}\\n\"\n",
    "                f\"Discount: {row['discount_percentage']}%\\n\"\n",
    "                f\"Rating: {row['rating']} ⭐\\n\"\n",
    "                f\"Rating Count: {row['rating_count']} reviews\\n\"\n",
    "                f\"Description: {row['about_product']}\\n\"\n",
    "                f\"Link: {row['product_link']}\",\n",
    "    axis=1\n",
    ")\n",
    "\n",
    "# Keep only the combined content for documents\n",
    "df_for_docs = df[['combined_content']].dropna()\n",
    "\n",
    "# Convert to LangChain documents\n",
    "from langchain.document_loaders import DataFrameLoader\n",
    "loader = DataFrameLoader(df_for_docs, page_content_column=\"combined_content\")\n",
    "documents = loader.load()\n",
    "\n",
    "print(f\"Created {len(documents)} documents.\")"
   ]
  },
  {
   "cell_type": "code",
   "execution_count": null,
   "id": "b82834d2",
   "metadata": {},
   "outputs": [
    {
     "name": "stdout",
     "output_type": "stream",
     "text": [
      "Split into 10142 chunks.\n"
     ]
    }
   ],
   "source": [
    "# Cell 5: Split long documents into smaller chunks\n",
    "from langchain.text_splitter import RecursiveCharacterTextSplitter\n",
    "\n",
    "text_splitter = RecursiveCharacterTextSplitter(\n",
    "    chunk_size=250,\n",
    "    chunk_overlap=50\n",
    ")\n",
    "split_docs = text_splitter.split_documents(documents)\n",
    "\n",
    "print(f\"Split into {len(split_docs)} chunks.\")"
   ]
  },
  {
   "cell_type": "code",
   "execution_count": null,
   "id": "b8cc03db",
   "metadata": {},
   "outputs": [
    {
     "name": "stderr",
     "output_type": "stream",
     "text": [
      "/tmp/ipykernel_30966/1561732543.py:4: LangChainDeprecationWarning: The class `HuggingFaceEmbeddings` was deprecated in LangChain 0.2.2 and will be removed in 1.0. An updated version of the class exists in the :class:`~langchain-huggingface package and should be used instead. To use it run `pip install -U :class:`~langchain-huggingface` and import as `from :class:`~langchain_huggingface import HuggingFaceEmbeddings``.\n",
      "  embedding_model = HuggingFaceEmbeddings(\n"
     ]
    }
   ],
   "source": [
    "# Cell 6: Set up embedding model\n",
    "from langchain.embeddings import HuggingFaceEmbeddings\n",
    "\n",
    "embedding_model = HuggingFaceEmbeddings(\n",
    "    model_name=\"sentence-transformers/all-MiniLM-L6-v2\",\n",
    "    model_kwargs={\"device\": \"cpu\"}  # Change to \"cuda\" if GPU available\n",
    ")"
   ]
  },
  {
   "cell_type": "code",
   "execution_count": 20,
   "id": "b3f91d9b",
   "metadata": {},
   "outputs": [],
   "source": [
    "# Cell 7: Build FAISS vector database\n",
    "from langchain.vectorstores import FAISS\n",
    "\n",
    "vectorstore = FAISS.from_documents(split_docs, embedding_model)\n",
    "vectorstore.save_local(\"faiss_index_amazon_full\")  # Save for reuse"
   ]
  },
  {
   "cell_type": "code",
   "execution_count": 29,
   "id": "7e0bc458",
   "metadata": {},
   "outputs": [
    {
     "name": "stderr",
     "output_type": "stream",
     "text": [
      "Device set to use cuda:0\n",
      "/tmp/ipykernel_30966/3444999262.py:21: LangChainDeprecationWarning: The class `HuggingFacePipeline` was deprecated in LangChain 0.0.37 and will be removed in 1.0. An updated version of the class exists in the :class:`~langchain-huggingface package and should be used instead. To use it run `pip install -U :class:`~langchain-huggingface` and import as `from :class:`~langchain_huggingface import HuggingFacePipeline``.\n",
      "  llm = HuggingFacePipeline(pipeline=pipe)\n"
     ]
    }
   ],
   "source": [
    "# Cell 8: Load lightweight LLM (FLAN-T5-Small)\n",
    "from transformers import AutoTokenizer, AutoModelForSeq2SeqLM, pipeline\n",
    "from langchain.llms import HuggingFacePipeline\n",
    "\n",
    "# Path to your downloaded model (or just use the name if online)\n",
    "model_name = \"/home/robin/Projects/RAG+LLM-Product-recommendation/myvenv/bin/flan-t5-small/\"  # or \"google/flan-t5-small\"\n",
    "\n",
    "# Load tokenizer and model correctly\n",
    "tokenizer = AutoTokenizer.from_pretrained(model_name)\n",
    "model = AutoModelForSeq2SeqLM.from_pretrained(model_name)  # ✅ Use Seq2SeqLM, NOT CausalLM\n",
    "\n",
    "# Create pipeline with correct task\n",
    "pipe = pipeline(\n",
    "    \"text2text-generation\",  # ✅ Task for T5 models\n",
    "    model=model,\n",
    "    tokenizer=tokenizer,\n",
    "    max_new_tokens=150\n",
    ")\n",
    "\n",
    "# Wrap in LangChain\n",
    "llm = HuggingFacePipeline(pipeline=pipe)"
   ]
  },
  {
   "cell_type": "code",
   "execution_count": 30,
   "id": "84bcfd47",
   "metadata": {},
   "outputs": [],
   "source": [
    "# Cell 7: Create Retrieval QA chain\n",
    "from langchain.chains import RetrievalQA\n",
    "\n",
    "qa_chain = RetrievalQA.from_chain_type(\n",
    "    llm=llm,\n",
    "    retriever=vectorstore.as_retriever(k=3),\n",
    "    chain_type=\"stuff\"\n",
    ")"
   ]
  },
  {
   "cell_type": "code",
   "execution_count": 31,
   "id": "7a823d91",
   "metadata": {},
   "outputs": [
    {
     "name": "stderr",
     "output_type": "stream",
     "text": [
      "/tmp/ipykernel_30966/2284986794.py:3: LangChainDeprecationWarning: The method `Chain.run` was deprecated in langchain 0.1.0 and will be removed in 1.0. Use :meth:`~invoke` instead.\n",
      "  response = qa_chain.run(query)\n"
     ]
    },
    {
     "name": "stdout",
     "output_type": "stream",
     "text": [
      "Question: What are the best-rated products in Electronics?\n",
      "Answer: Apple MacBook, Dell, HP, Lenovo, Asus, MSI, Acer, Microsoft Surface, Razer, Samsung etc offers multiple Protection against short-circuit, over-temperature, over-current, over-voltage and more|Robust textured casing and premium internal components ensure perfect performance|Power Source Type: Corded Electric; Specification Met: Bis\n"
     ]
    }
   ],
   "source": [
    "# Cell 8: Ask a question\n",
    "query = \"What are the best-rated products in Electronics?\"\n",
    "response = qa_chain.run(query)\n",
    "print(\"Question:\", query)\n",
    "print(\"Answer:\", response)"
   ]
  }
 ],
 "metadata": {
  "kernelspec": {
   "display_name": "myvenv",
   "language": "python",
   "name": "python3"
  },
  "language_info": {
   "codemirror_mode": {
    "name": "ipython",
    "version": 3
   },
   "file_extension": ".py",
   "mimetype": "text/x-python",
   "name": "python",
   "nbconvert_exporter": "python",
   "pygments_lexer": "ipython3",
   "version": "3.13.7"
  }
 },
 "nbformat": 4,
 "nbformat_minor": 5
}
